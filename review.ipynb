{
 "cells": [
  {
   "cell_type": "code",
   "execution_count": 34,
   "metadata": {},
   "outputs": [
    {
     "name": "stdout",
     "output_type": "stream",
     "text": [
      "defaultdict(<class 'list'>, {})\n",
      "Counter({'m': 2, 'n': 2, 'i': 2, 's': 2, 'y': 1, 'a': 1, 'e': 1, 'j': 1, 'u': 1, 't': 1})\n"
     ]
    }
   ],
   "source": [
    "from collections import Counter, defaultdict\n",
    "import pickle\n",
    "\n",
    "s = dict()\n",
    "s = {}\n",
    "\n",
    "s = {n: n**2 for n in range(10)}\n",
    "c = Counter(\"\".join(\"my name is justin\".split(\" \")))\n",
    "\n",
    "d = defaultdict(lambda: [])\n",
    "d = defaultdict(list)\n",
    "\n",
    "l = d\n",
    "with open(\"numbers.pkl\", \"wb\") as file:\n",
    "    pickle.dump(l, file)\n",
    "\n",
    "with open(\"numbers.pkl\", \"rb\") as file:\n",
    "    results = pickle.load(file)\n",
    "    print(results)\n",
    "print(c)"
   ]
  },
  {
   "cell_type": "code",
   "execution_count": 42,
   "metadata": {},
   "outputs": [
    {
     "name": "stdout",
     "output_type": "stream",
     "text": [
      "2\n",
      "3\n",
      "5\n",
      "7\n",
      "11\n",
      "13\n",
      "17\n",
      "19\n",
      "23\n",
      "29\n"
     ]
    }
   ],
   "source": [
    "from math import sqrt\n",
    "def prime(n):\n",
    "    for i in range(2, int(sqrt(n))+1):\n",
    "        if n%i == 0:\n",
    "            return False\n",
    "    return True\n",
    "def primeNums():\n",
    "    i = 2\n",
    "    while True:\n",
    "        if prime(i):\n",
    "            yield i\n",
    "        i += 1\n",
    "prime_gen = primeNums()\n",
    "for i in range(10):\n",
    "    print(next(prime_gen))"
   ]
  },
  {
   "cell_type": "code",
   "execution_count": 43,
   "metadata": {},
   "outputs": [
    {
     "name": "stdout",
     "output_type": "stream",
     "text": [
      "0\n",
      "2\n",
      "8\n",
      "34\n",
      "144\n",
      "610\n",
      "2584\n",
      "10946\n",
      "46368\n",
      "196418\n"
     ]
    }
   ],
   "source": [
    "def fib_even():\n",
    "    i = 0\n",
    "    yield i\n",
    "    j = 1\n",
    "\n",
    "    while True:\n",
    "        curr = i + j\n",
    "        if curr % 2 == 0:\n",
    "            yield curr\n",
    "        i = j\n",
    "        j = curr\n",
    "\n",
    "fib_gen = fib_even()\n",
    "for i in range(10):\n",
    "    print(next(fib_gen))"
   ]
  },
  {
   "cell_type": "code",
   "execution_count": 46,
   "metadata": {},
   "outputs": [
    {
     "name": "stdout",
     "output_type": "stream",
     "text": [
      "wrapper 3\n",
      "wrapper 2\n",
      "wrapper 1\n",
      "Hello from myFunction!\n"
     ]
    }
   ],
   "source": [
    "def decorator1(func):\n",
    "    def wrapper():\n",
    "        print(\"wrapper 1\")\n",
    "        func()\n",
    "    return wrapper\n",
    "\n",
    "def decorator2(func):\n",
    "    def wrapper():\n",
    "        print(\"wrapper 2\")\n",
    "        func()\n",
    "    return wrapper\n",
    "\n",
    "def decorator3(func):\n",
    "    def wrapper():\n",
    "        print(\"wrapper 3\")\n",
    "        func()\n",
    "    return wrapper\n",
    "\n",
    "@decorator3\n",
    "@decorator2\n",
    "@decorator1\n",
    "def myFunction():\n",
    "    print(\"Hello from myFunction!\")\n",
    "\n",
    "myFunction()"
   ]
  },
  {
   "cell_type": "code",
   "execution_count": 50,
   "metadata": {},
   "outputs": [
    {
     "name": "stdout",
     "output_type": "stream",
     "text": [
      "before\n",
      "func from hello\n",
      "after\n"
     ]
    }
   ],
   "source": [
    "def decorator_function(func):\n",
    "    def wrapper(*args, **kwargs):\n",
    "        print(\"before\")\n",
    "        func(*args, **kwargs)\n",
    "        print(\"after\")\n",
    "    return wrapper\n",
    "\n",
    "@decorator_function\n",
    "def myFunction(a, b, c):\n",
    "    print(a, b, c)\n",
    "\n",
    "myFunction(c=\"hello\", b=\"from\", a=\"func\")"
   ]
  },
  {
   "cell_type": "code",
   "execution_count": 57,
   "metadata": {},
   "outputs": [
    {
     "name": "stdout",
     "output_type": "stream",
     "text": [
      "Initiating multiply with 8 numbers!\n",
      "1814400\n"
     ]
    }
   ],
   "source": [
    "def my_logger(func):\n",
    "    def wrapper(*args):\n",
    "        print(f\"Initiating {func.__name__} with {len(args)} numbers!\")\n",
    "        return func(*args)\n",
    "    return wrapper\n",
    "\n",
    "@my_logger\n",
    "def multiply(*args):\n",
    "    res = 1\n",
    "    for num in args:\n",
    "        res *= num\n",
    "    return res\n",
    "\n",
    "print(multiply(3, 4, 5, 6, 7, 8, 9, 10))"
   ]
  },
  {
   "cell_type": "code",
   "execution_count": null,
   "metadata": {},
   "outputs": [],
   "source": [
    "def sumDiagonal(l):\n",
    "    s = 0\n",
    "    x = []\n",
    "    for i in range(len(l)):\n",
    "        for j in range(len(l[i])):\n",
    "            if i == j:\n",
    "                s += l[i][j]\n",
    "                x.append(l[i][j])\n",
    "    return (s, x)\n",
    "\n",
    "def printEvent(l):\n",
    "    for i in range(len(l)):\n",
    "        for j in range(len(l[i])):\n",
    "            if l[i][j]%2 == 0:\n",
    "                print(l[i][j])\n",
    "\n"
   ]
  },
  {
   "cell_type": "code",
   "execution_count": null,
   "metadata": {},
   "outputs": [],
   "source": [
    "def saddle_point(l):\n",
    "    mins = []\n",
    "    for i in range(len(l)):\n",
    "        mins.append(min(l[i]))\n",
    "    maxs = []\n",
    "    for j in range(len(l[0])):\n",
    "        sub = []\n",
    "        for i in range(len(l)):\n",
    "            sub.append(l[i][j])\n",
    "        maxs.append(max(sub))\n",
    "    \n",
    "    return max(mins) if max(mins) == min(maxs) else None\n"
   ]
  }
 ],
 "metadata": {
  "kernelspec": {
   "display_name": "Python 3",
   "language": "python",
   "name": "python3"
  },
  "language_info": {
   "codemirror_mode": {
    "name": "ipython",
    "version": 3
   },
   "file_extension": ".py",
   "mimetype": "text/x-python",
   "name": "python",
   "nbconvert_exporter": "python",
   "pygments_lexer": "ipython3",
   "version": "3.11.4"
  }
 },
 "nbformat": 4,
 "nbformat_minor": 2
}
