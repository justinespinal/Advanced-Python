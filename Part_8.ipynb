{
 "cells": [
  {
   "cell_type": "markdown",
   "metadata": {},
   "source": [
    "## Decorators:\n",
    "A function can define a new function inside itself as well as return the function."
   ]
  },
  {
   "cell_type": "code",
   "execution_count": 6,
   "metadata": {},
   "outputs": [
    {
     "name": "stdout",
     "output_type": "stream",
     "text": [
      "9\n"
     ]
    }
   ],
   "source": [
    "def f(x):\n",
    " def sq(z):\n",
    "  return z*z\n",
    " return sq(x)\n",
    "print(f(3))"
   ]
  },
  {
   "cell_type": "markdown",
   "metadata": {},
   "source": [
    "A decorator is a function that creates a “wrapper” around another function. "
   ]
  },
  {
   "cell_type": "code",
   "execution_count": 7,
   "metadata": {},
   "outputs": [
    {
     "name": "stdout",
     "output_type": "stream",
     "text": [
      "Something is happening before the function is called.\n",
      "Whee!\n",
      "Something is happening after the function is called.\n"
     ]
    }
   ],
   "source": [
    "def my_decorator(func):\n",
    " def wrapper():\n",
    "  print(\"Something is happening before the function is called.\")\n",
    "  func()\n",
    "  print(\"Something is happening after the function is called.\")\n",
    " return wrapper\n",
    "\n",
    "def say_whee():\n",
    " print(\"Whee!\")\n",
    "\n",
    "say_whee = my_decorator(say_whee)\n",
    "say_whee()"
   ]
  },
  {
   "cell_type": "markdown",
   "metadata": {},
   "source": [
    "Define a function (for this example call the function “log_function_call”) that takes the original function (call original function func) as an argument and makes a “sandwich” around f that\n",
    "- Prints that func has entered\n",
    "- Calls func to do the work\n",
    "- Prints that func has exited."
   ]
  },
  {
   "cell_type": "code",
   "execution_count": 26,
   "metadata": {},
   "outputs": [
    {
     "name": "stdout",
     "output_type": "stream",
     "text": [
      "Calling function add_numbers\n",
      "Finished calling function add_numbers\n",
      "5\n",
      "Calling function add_numbers\n",
      "Finished calling function add_numbers\n",
      "<function log_function_call.<locals>.wrapper at 0x1076795e0>\n"
     ]
    }
   ],
   "source": [
    "# This is the decorator function\n",
    "def log_function_call(func):\n",
    " def wrapper(*args, **kwargs):\n",
    "  print(f\"Calling function {func.__name__}\")\n",
    "  result = func(*args, **kwargs)\n",
    "  print(f\"Finished calling function {func.__name__}\")\n",
    "  return result\n",
    " return wrapper\n",
    "\n",
    "# This is the function to be decorated\n",
    "def add_numbers(x, y):\n",
    " return x + y\n",
    "\n",
    "# This says that the log_function_call function will “decorate” the add function\n",
    "@log_function_call\n",
    "def add_numbers(x, y):\n",
    " return x + y\n",
    "\n",
    "# Now you call add_number(2,3)\n",
    "result = add_numbers(2, 3)\n",
    "print(result)\n",
    "\n",
    "# This is equivalent to (as we saw in the first example)\n",
    "add_numbers = log_function_call(add_numbers(2,3))\n",
    "result = add_numbers\n",
    "print(result)"
   ]
  },
  {
   "cell_type": "markdown",
   "metadata": {},
   "source": [
    "In general:\n",
    "## Syntactically, decorators are denoted using the special @ symbol as follows:\n"
   ]
  },
  {
   "cell_type": "code",
   "execution_count": null,
   "metadata": {},
   "outputs": [],
   "source": [
    "@decorate\n",
    "def func(x):\n",
    "#  ...\n",
    "  pass\n",
    "# The preceding code is shorthand for the following:\n",
    "def func(x):\n",
    "#  ...\n",
    "    pass\n",
    "func = decorate(func) # decorate is the name of the decorator in this example"
   ]
  },
  {
   "cell_type": "markdown",
   "metadata": {},
   "source": [
    "## Here is one way to keep the original function (other than defining it twice):"
   ]
  },
  {
   "cell_type": "code",
   "execution_count": 31,
   "metadata": {},
   "outputs": [
    {
     "name": "stdout",
     "output_type": "stream",
     "text": [
      "Calling decorated function:\n",
      "Decorator adds this before the function call\n",
      "Original function called with arguments: 5, 10\n",
      "Decorator adds this after the function call\n",
      "15\n",
      "\n",
      "Calling undecorated function:\n",
      "Original function called with arguments: 5, 10\n",
      "15\n"
     ]
    }
   ],
   "source": [
    "def my_decorator(func):\n",
    " def wrapper(*args, **kwargs):\n",
    "  print(\"Decorator adds this before the function call\")\n",
    "  result = func(*args, **kwargs)\n",
    "  print(\"Decorator adds this after the function call\")\n",
    "  return result\n",
    " # Provide access to the undecorated function via an attribute of the wrapper\n",
    " wrapper.original = func\n",
    " return wrapper\n",
    "\n",
    "# Applying the decorator using the @ notation\n",
    "@my_decorator\n",
    "def original_function(x, y):\n",
    " print(f\"Original function called with arguments: {x}, {y}\")\n",
    " return x + y\n",
    "\n",
    "print(\"Calling decorated function:\")\n",
    "print(original_function(5, 10))\n",
    "\n",
    "# Using the undecorated function via an attribute of the decorated function\n",
    "print(\"\\nCalling undecorated function:\")\n",
    "print(original_function.original(5, 10))\n",
    "\n"
   ]
  }
 ],
 "metadata": {
  "kernelspec": {
   "display_name": "Python 3",
   "language": "python",
   "name": "python3"
  },
  "language_info": {
   "codemirror_mode": {
    "name": "ipython",
    "version": 3
   },
   "file_extension": ".py",
   "mimetype": "text/x-python",
   "name": "python",
   "nbconvert_exporter": "python",
   "pygments_lexer": "ipython3",
   "version": "3.9.6"
  }
 },
 "nbformat": 4,
 "nbformat_minor": 2
}
