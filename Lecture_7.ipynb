{
 "cells": [
  {
   "cell_type": "markdown",
   "metadata": {},
   "source": [
    "Lecture 9: Advanced Python Programming | Modules and Functions"
   ]
  },
  {
   "cell_type": "markdown",
   "metadata": {},
   "source": [
    "Say we want to get the square root of a number. It would seem reasonable that Python would provide a function to do that as well. But this is not the case, and instead we must import it!"
   ]
  },
  {
   "cell_type": "code",
   "execution_count": 61,
   "metadata": {},
   "outputs": [
    {
     "name": "stdout",
     "output_type": "stream",
     "text": [
      "1.7320508075688772\n"
     ]
    }
   ],
   "source": [
    "import math\n",
    "print(math.sqrt(3))"
   ]
  },
  {
   "cell_type": "code",
   "execution_count": 62,
   "metadata": {},
   "outputs": [
    {
     "name": "stdout",
     "output_type": "stream",
     "text": [
      "1.7320508075688772\n"
     ]
    }
   ],
   "source": [
    "from math import sqrt\n",
    "print(sqrt(3))"
   ]
  },
  {
   "cell_type": "markdown",
   "metadata": {},
   "source": [
    "Of course, we can create our own functions and modules! \n",
    "\n",
    "A function in Python is defined using the `def` keyword, followed by the function name and\n",
    "parentheses containing any parameters the function might take. The body of the function starts on\n",
    "the next line and must be indented."
   ]
  },
  {
   "cell_type": "code",
   "execution_count": 63,
   "metadata": {},
   "outputs": [],
   "source": [
    "def my_function(param1, param2):\n",
    " # Function body\n",
    " result = param1 + param2\n",
    " return result"
   ]
  },
  {
   "cell_type": "markdown",
   "metadata": {},
   "source": [
    "Functions can take arguments, which are values passed to the function when it is called. \n",
    "\n",
    "Python supports several types of arguments:\n",
    "\n",
    "Positional arguments: If you have them, it’s their position in the function call matters. They are\n",
    "like the function arguments in the other languages that you are familiar with.\n",
    "\n",
    "Keyword arguments: These are optional and have default values. They are identified by the\n",
    "keyword used in the function call, not their position.\n",
    "\n",
    "Arbitrary positional arguments: If a function needs to accept an arbitrary number of positional\n",
    "arguments, it can use `*args`.\n",
    "\n",
    "Arbitrary keyword arguments: To accept an arbitrary number of keyword arguments, a function\n",
    "can use `**kwargs`."
   ]
  },
  {
   "cell_type": "code",
   "execution_count": 64,
   "metadata": {},
   "outputs": [],
   "source": [
    "def example_function(positional, *args, keyword='default', **kwargs):\n",
    " pass"
   ]
  },
  {
   "cell_type": "markdown",
   "metadata": {},
   "source": [
    "Return Values\n",
    "\n",
    "Functions in Python can return values using the `return` statement. If no `return` statement is\n",
    "present or if `return` is called without a value, the function will return `None`."
   ]
  },
  {
   "cell_type": "code",
   "execution_count": 65,
   "metadata": {},
   "outputs": [],
   "source": [
    "def add(a, b):\n",
    " return a + b"
   ]
  },
  {
   "cell_type": "markdown",
   "metadata": {},
   "source": [
    "In Python, every function creates its own scope, which is the context in which its variables are\n",
    "defined and accessed. \n",
    "\n",
    "Variables defined inside a function are local to that function and not\n",
    "accessible outside of it. \n",
    "\n",
    "Python uses namespaces to keep track of all the variables and their scopes.\n",
    "\n",
    "Local scope: Refers to variables defined within a function.\n",
    "\n",
    "Global scope: Refers to variables defined at the top level of a module or declared global using the\n",
    "`global` keyword within a function.\n",
    "\n",
    "Enclosing scope: Refers to the scope of any enclosing functions, relevant in the context of nested\n",
    "functions.\n"
   ]
  },
  {
   "cell_type": "markdown",
   "metadata": {},
   "source": [
    "In Python, functions are first-class objects, meaning they can be passed around and used as\n",
    "arguments or return values in other functions. This allows for higher-order functions and\n",
    "functional programming patterns."
   ]
  },
  {
   "cell_type": "code",
   "execution_count": 66,
   "metadata": {},
   "outputs": [
    {
     "name": "stdout",
     "output_type": "stream",
     "text": [
      "HELLO, I AM A FUNCTION\n",
      "hello, i am a function\n"
     ]
    }
   ],
   "source": [
    "def shout(text):\n",
    " return text.upper()\n",
    "\n",
    "def whisper(text):\n",
    " return text.lower()\n",
    "\n",
    "def greet(func):\n",
    " greeting = func(\"Hello, I am a function\")\n",
    " print(greeting)\n",
    "\n",
    "greet(shout) # Output: \"HELLO, I AM A FUNCTION\"\n",
    "greet(whisper) # Output: \"hello, i am a function\"\n"
   ]
  },
  {
   "cell_type": "markdown",
   "metadata": {},
   "source": [
    "6. Closures\n",
    "\n",
    "A closure in Python is a function object that remembers values in enclosing scopes even if they\n",
    "are not present in memory. It is a record that stores a function together with an environment: a\n",
    "mapping associating each free variable of the function with the value or reference to which the\n",
    "name was bound when the closure was created."
   ]
  },
  {
   "cell_type": "code",
   "execution_count": 67,
   "metadata": {},
   "outputs": [
    {
     "name": "stdout",
     "output_type": "stream",
     "text": [
      "Hello\n"
     ]
    }
   ],
   "source": [
    "def outer_function(text):\n",
    " def inner_function():\n",
    "    print(text)\n",
    " return inner_function # Return the inner function\n",
    "\n",
    "my_func = outer_function('Hello')\n",
    "my_func() # Output: \"Hello\""
   ]
  },
  {
   "cell_type": "markdown",
   "metadata": {},
   "source": [
    "7. Decorators\n",
    "\n",
    "Decorators are a powerful aspect of Python functions, allowing you to modify the behavior of a\n",
    "function without changing its code. A decorator is a function that takes another function as an\n",
    "argument, wraps its behavior in an inner function, and returns the wrapped function."
   ]
  },
  {
   "cell_type": "code",
   "execution_count": 68,
   "metadata": {},
   "outputs": [
    {
     "name": "stdout",
     "output_type": "stream",
     "text": [
      "Something is happening before the function is called.\n",
      "Hello!\n",
      "Something is happening after the function is called.\n"
     ]
    }
   ],
   "source": [
    "def my_decorator(func):\n",
    " def wrapper():\n",
    "  print(\"Something is happening before the function is called.\")\n",
    "  func()\n",
    "  print(\"Something is happening after the function is called.\")\n",
    " return wrapper\n",
    "\n",
    "@my_decorator\n",
    "def say_hello():\n",
    " print(\"Hello!\")\n",
    "say_hello()\n"
   ]
  },
  {
   "cell_type": "markdown",
   "metadata": {},
   "source": [
    "Write a function is_leap(x) which returns True if x is a leap year and False otherwise.Answer:\n"
   ]
  },
  {
   "cell_type": "code",
   "execution_count": 69,
   "metadata": {},
   "outputs": [
    {
     "name": "stdout",
     "output_type": "stream",
     "text": [
      "True\n",
      "False\n",
      "False\n",
      "False\n",
      "True\n"
     ]
    }
   ],
   "source": [
    "def is_leap(x):\n",
    "    if((x%100 == 0 and x%400==0)):\n",
    "        return True\n",
    "    elif(x%4==0 and x%100==0 and not x%400==0):\n",
    "        return False\n",
    "    elif(x%4==0):\n",
    "        return True\n",
    "    return False\n",
    "print(is_leap(4))\n",
    "print(is_leap(3))\n",
    "print(is_leap(100))\n",
    "print(is_leap(300))\n",
    "print(is_leap(400))"
   ]
  },
  {
   "cell_type": "markdown",
   "metadata": {},
   "source": [
    "Is prime function"
   ]
  },
  {
   "cell_type": "code",
   "execution_count": 70,
   "metadata": {},
   "outputs": [
    {
     "name": "stdout",
     "output_type": "stream",
     "text": [
      "False\n"
     ]
    }
   ],
   "source": [
    "from math import sqrt\n",
    "def  is_prime(x):\n",
    "    prime = True\n",
    "    for i in range(2, int(sqrt(x)+1)):\n",
    "        if(x%i==0):\n",
    "            return False\n",
    "    return prime\n",
    "print(is_prime(4))"
   ]
  },
  {
   "cell_type": "markdown",
   "metadata": {},
   "source": [
    "Write a program to ask the user for two integers, first and last. Write a program to print out all the\n",
    "primes between first and last (inclusive), five values per line.\n"
   ]
  },
  {
   "cell_type": "code",
   "execution_count": 71,
   "metadata": {},
   "outputs": [
    {
     "ename": "ValueError",
     "evalue": "invalid literal for int() with base 10: ''",
     "output_type": "error",
     "traceback": [
      "\u001b[1;31m---------------------------------------------------------------------------\u001b[0m",
      "\u001b[1;31mValueError\u001b[0m                                Traceback (most recent call last)",
      "Cell \u001b[1;32mIn[71], line 19\u001b[0m\n\u001b[0;32m     17\u001b[0m             \u001b[38;5;28;01mif\u001b[39;00m(count\u001b[38;5;241m%\u001b[39m\u001b[38;5;241m5\u001b[39m\u001b[38;5;241m==\u001b[39m\u001b[38;5;241m0\u001b[39m):\n\u001b[0;32m     18\u001b[0m                 \u001b[38;5;28mprint\u001b[39m()\n\u001b[1;32m---> 19\u001b[0m \u001b[43mprogram\u001b[49m\u001b[43m(\u001b[49m\u001b[43m)\u001b[49m\n",
      "Cell \u001b[1;32mIn[71], line 4\u001b[0m, in \u001b[0;36mprogram\u001b[1;34m()\u001b[0m\n\u001b[0;32m      3\u001b[0m \u001b[38;5;28;01mdef\u001b[39;00m \u001b[38;5;21mprogram\u001b[39m():\n\u001b[1;32m----> 4\u001b[0m     first \u001b[38;5;241m=\u001b[39m \u001b[38;5;28;43mint\u001b[39;49m\u001b[43m(\u001b[49m\u001b[38;5;28;43minput\u001b[39;49m\u001b[43m(\u001b[49m\u001b[38;5;124;43m\"\u001b[39;49m\u001b[38;5;124;43mGive a number\u001b[39;49m\u001b[38;5;124;43m\"\u001b[39;49m\u001b[43m)\u001b[49m\u001b[43m)\u001b[49m\n\u001b[0;32m      5\u001b[0m     last \u001b[38;5;241m=\u001b[39m \u001b[38;5;28mint\u001b[39m(\u001b[38;5;28minput\u001b[39m(\u001b[38;5;124m\"\u001b[39m\u001b[38;5;124mGive another number\u001b[39m\u001b[38;5;124m\"\u001b[39m))\n\u001b[0;32m      6\u001b[0m     count \u001b[38;5;241m=\u001b[39m \u001b[38;5;241m0\u001b[39m\n",
      "\u001b[1;31mValueError\u001b[0m: invalid literal for int() with base 10: ''"
     ]
    }
   ],
   "source": [
    "from math import sqrt\n",
    "\n",
    "def program():\n",
    "    first = int(input(\"Give a number\"))\n",
    "    last = int(input(\"Give another number\"))\n",
    "    count = 0\n",
    "    def  is_prime(x):\n",
    "        for i in range(2, int(sqrt(x)+1)):\n",
    "            if(x%i==0):\n",
    "                return False\n",
    "        return True\n",
    "\n",
    "    for i in range(first, last+1):\n",
    "        if(is_prime(i)):\n",
    "            print(i, end=\" \")\n",
    "            count+=1\n",
    "            if(count%5==0):\n",
    "                print()\n",
    "program()"
   ]
  },
  {
   "cell_type": "markdown",
   "metadata": {},
   "source": [
    "Write a function sum_of_digits(n) which returns the sum of the digits of n.\n"
   ]
  },
  {
   "cell_type": "code",
   "execution_count": 27,
   "metadata": {},
   "outputs": [
    {
     "name": "stdout",
     "output_type": "stream",
     "text": [
      "3\n"
     ]
    }
   ],
   "source": [
    "def sum_of_digits(n):\n",
    "    sum = 0\n",
    "    while n > 0:\n",
    "        sum += n%10\n",
    "        n //= 10\n",
    "    return sum\n",
    "print(sum_of_digits(3))"
   ]
  },
  {
   "cell_type": "markdown",
   "metadata": {},
   "source": [
    "Write a function my_bin(n) which converts an integer number to a string representation of n.But\n",
    "Leave out the leading ‘0b’ returned by the built in function bin.\n"
   ]
  },
  {
   "cell_type": "code",
   "execution_count": 42,
   "metadata": {},
   "outputs": [
    {
     "name": "stdout",
     "output_type": "stream",
     "text": [
      "1010\n",
      "0b1010\n"
     ]
    }
   ],
   "source": [
    "def my_bin(n):\n",
    "    str = \"\"\n",
    "    while(n!=0):\n",
    "      if(n%2==0):\n",
    "         str = \"0\" + str\n",
    "      else:\n",
    "         str = \"1\" + str\n",
    "      n //= 2\n",
    "    return str\n",
    "print(my_bin(10))\n",
    "print(bin(10))"
   ]
  },
  {
   "cell_type": "markdown",
   "metadata": {},
   "source": [
    "Write a function convert(a , basea, b)\n",
    "\n",
    "where a is an integer in base a to an equivalent integer in base b. The result will be a base b interger\n",
    "represented as a string. basea and baseb are integers between 2 – 9."
   ]
  },
  {
   "cell_type": "code",
   "execution_count": null,
   "metadata": {},
   "outputs": [],
   "source": [
    "def convert(a, basea, b):\n",
    "    pass\n",
    "    "
   ]
  },
  {
   "cell_type": "code",
   "execution_count": null,
   "metadata": {},
   "outputs": [],
   "source": [
    "def convert(a, basea, b):\n",
    "    pass\n",
    "    "
   ]
  },
  {
   "cell_type": "markdown",
   "metadata": {},
   "source": [
    "Scope\n",
    "\n",
    "The code below does not change the variable x!"
   ]
  },
  {
   "cell_type": "code",
   "execution_count": 44,
   "metadata": {},
   "outputs": [
    {
     "name": "stdout",
     "output_type": "stream",
     "text": [
      "100\n",
      "200\n",
      "100\n"
     ]
    }
   ],
   "source": [
    "x = 100\n",
    "def foo():\n",
    " x = 200\n",
    " print(x)\n",
    "print(x)\n",
    "foo()\n",
    "print(x)"
   ]
  },
  {
   "cell_type": "markdown",
   "metadata": {},
   "source": [
    "If you want to wor with gloabal variables, you need to guse a global statement"
   ]
  },
  {
   "cell_type": "code",
   "execution_count": 45,
   "metadata": {},
   "outputs": [
    {
     "name": "stdout",
     "output_type": "stream",
     "text": [
      "100\n",
      "200\n",
      "200\n"
     ]
    }
   ],
   "source": [
    "def foo():\n",
    " global x\n",
    " x = 200\n",
    " print(x)\n",
    "86\n",
    "print(x)\n",
    "foo()\n",
    "print(x)"
   ]
  },
  {
   "cell_type": "markdown",
   "metadata": {},
   "source": [
    "ENCLOSING (a function defined in inside another)\n",
    "\n",
    "Unlike other languages, Python allows functions to be defined inside other functions (we will deal with\n",
    "lambdas later). We will encounter this when we look at “decorators.\""
   ]
  },
  {
   "cell_type": "code",
   "execution_count": 48,
   "metadata": {},
   "outputs": [
    {
     "name": "stdout",
     "output_type": "stream",
     "text": [
      "200\n"
     ]
    }
   ],
   "source": [
    "def foo(x):\n",
    " def bar(y):\n",
    "  return x * y\n",
    " return bar\n",
    "f = foo(10)\n",
    "print(f(20))\n"
   ]
  },
  {
   "cell_type": "markdown",
   "metadata": {},
   "source": [
    "If you only want to affect variaibles enclosed within functions, you can use nonlocal"
   ]
  },
  {
   "cell_type": "code",
   "execution_count": 51,
   "metadata": {},
   "outputs": [
    {
     "name": "stdout",
     "output_type": "stream",
     "text": [
      "y = 10, call_counter = 1\n",
      "y = 20, call_counter = 2\n",
      "y = 30, call_counter = 3\n",
      "y = 40, call_counter = 4\n",
      "y = 50, call_counter = 5\n",
      "y = 60, call_counter = 6\n",
      "y = 70, call_counter = 7\n",
      "y = 80, call_counter = 8\n",
      "y = 90, call_counter = 9\n"
     ]
    }
   ],
   "source": [
    "def foo():\n",
    " call_counter = 0\n",
    " def bar(y):\n",
    "  nonlocal call_counter\n",
    "  call_counter += 1\n",
    "  return f'y = {y}, call_counter = {call_counter}'\n",
    " return bar\n",
    "b = foo()\n",
    "for i in range(10, 100, 10):\n",
    " print(b(i)) "
   ]
  },
  {
   "cell_type": "markdown",
   "metadata": {},
   "source": [
    "Functions are objects and …\n",
    "Can have attributes assigned to them. For example:"
   ]
  },
  {
   "cell_type": "code",
   "execution_count": 52,
   "metadata": {},
   "outputs": [
    {
     "name": "stdout",
     "output_type": "stream",
     "text": [
      "hi\n"
     ]
    }
   ],
   "source": [
    "def do_thing():\n",
    " return\n",
    "do_thing.whatever = \"hi\"\n",
    "print(do_thing.whatever)"
   ]
  },
  {
   "cell_type": "markdown",
   "metadata": {},
   "source": [
    "Note that not all objects can have attributes assigned to them.\n",
    "\n",
    "Python explicitly forbids attribute assignment to built-in functions:\n",
    "\n",
    "print.some_data = \"foo\"\n",
    "> AttributeError: 'builtin_function_or_method' object has no attribute 'some_data'\n",
    "\n",
    "And you can’t assign attributes to built-in types:\n",
    "\n",
    "var = \"stringy string\"\n",
    "\n",
    "var.some_data = \"foo\"\n"
   ]
  },
  {
   "cell_type": "markdown",
   "metadata": {},
   "source": [
    "**How does this work?**\n",
    "\n",
    "Internally, it's just a dictionary that handles failed attribute lookups (i.e., nondefault attributes). \n",
    "You can access or even replace such dictionary using __dict__ attribute.\n",
    "\n",
    "For example, you can track the number of times a function was called:\n"
   ]
  },
  {
   "cell_type": "code",
   "execution_count": 53,
   "metadata": {},
   "outputs": [
    {
     "name": "stdout",
     "output_type": "stream",
     "text": [
      "2\n"
     ]
    }
   ],
   "source": [
    "def func(a, b):\n",
    " func.ncalls += 1\n",
    " return a + b\n",
    "func.ncalls = 0\n",
    "func(1, 2)\n",
    "func(3, 2)\n",
    "print(func.ncalls)"
   ]
  },
  {
   "cell_type": "markdown",
   "metadata": {},
   "source": [
    "**Problem: Consider the following function**"
   ]
  },
  {
   "cell_type": "code",
   "execution_count": 59,
   "metadata": {},
   "outputs": [
    {
     "ename": "NameError",
     "evalue": "name 'bark' is not defined",
     "output_type": "error",
     "traceback": [
      "\u001b[1;31m---------------------------------------------------------------------------\u001b[0m",
      "\u001b[1;31mNameError\u001b[0m                                 Traceback (most recent call last)",
      "Cell \u001b[1;32mIn[59], line 6\u001b[0m\n\u001b[0;32m      4\u001b[0m  Dog\u001b[38;5;241m.\u001b[39mbark \u001b[38;5;241m=\u001b[39m bark\n\u001b[0;32m      5\u001b[0m  \u001b[38;5;28;01mreturn\u001b[39;00m Dog\n\u001b[1;32m----> 6\u001b[0m \u001b[43mbark\u001b[49m()\n",
      "\u001b[1;31mNameError\u001b[0m: name 'bark' is not defined"
     ]
    }
   ],
   "source": [
    "def Dog():\n",
    " def bark():\n",
    "  print(\"bark bark\")\n",
    " Dog.bark = bark\n",
    " return Dog\n",
    "bark()"
   ]
  },
  {
   "cell_type": "markdown",
   "metadata": {},
   "source": [
    "**What happens when we run bark()?**\n",
    "\n",
    "name \"bark\" is not defined"
   ]
  },
  {
   "cell_type": "markdown",
   "metadata": {},
   "source": [
    "**What happens when we run Dog.bark()?** function has no attribute 'bark'"
   ]
  },
  {
   "cell_type": "code",
   "execution_count": 60,
   "metadata": {},
   "outputs": [
    {
     "ename": "AttributeError",
     "evalue": "'function' object has no attribute 'bark'",
     "output_type": "error",
     "traceback": [
      "\u001b[1;31m---------------------------------------------------------------------------\u001b[0m",
      "\u001b[1;31mAttributeError\u001b[0m                            Traceback (most recent call last)",
      "Cell \u001b[1;32mIn[60], line 6\u001b[0m\n\u001b[0;32m      4\u001b[0m  Dog\u001b[38;5;241m.\u001b[39mbark \u001b[38;5;241m=\u001b[39m bark\n\u001b[0;32m      5\u001b[0m  \u001b[38;5;28;01mreturn\u001b[39;00m Dog\n\u001b[1;32m----> 6\u001b[0m \u001b[43mDog\u001b[49m\u001b[38;5;241;43m.\u001b[39;49m\u001b[43mbark\u001b[49m()\n",
      "\u001b[1;31mAttributeError\u001b[0m: 'function' object has no attribute 'bark'"
     ]
    }
   ],
   "source": [
    "def Dog():\n",
    " def bark():\n",
    "  print(\"bark bark\")\n",
    " Dog.bark = bark\n",
    " return Dog\n",
    "Dog.bark()"
   ]
  },
  {
   "cell_type": "markdown",
   "metadata": {},
   "source": [
    "**What happens when we run:** We print \"bark bark\" because we created an instance of dog and called bark()\n",
    "\n",
    "spot= Dog()\n",
    "\n",
    "spot.bark()\n"
   ]
  },
  {
   "cell_type": "code",
   "execution_count": 72,
   "metadata": {},
   "outputs": [
    {
     "name": "stdout",
     "output_type": "stream",
     "text": [
      "bark bark\n"
     ]
    }
   ],
   "source": [
    "def Dog():\n",
    " def bark():\n",
    "  print(\"bark bark\")\n",
    " Dog.bark = bark\n",
    " return Dog\n",
    "\n",
    "spot = Dog()\n",
    "spot.bark()"
   ]
  },
  {
   "cell_type": "markdown",
   "metadata": {},
   "source": [
    "What if we had just had: We print \"bark bark\" because we have ran Dog() and it now has access to the bark function!"
   ]
  },
  {
   "cell_type": "code",
   "execution_count": 73,
   "metadata": {},
   "outputs": [
    {
     "name": "stdout",
     "output_type": "stream",
     "text": [
      "bark bark\n"
     ]
    }
   ],
   "source": [
    "def Dog():\n",
    " def bark():\n",
    "  print(\"bark bark\")\n",
    " Dog.bark = bark\n",
    " return Dog\n",
    "Dog()\n",
    "Dog.bark()"
   ]
  },
  {
   "cell_type": "markdown",
   "metadata": {},
   "source": [
    "**A deeper dive into Python functions**\n",
    "1. Argument evaluation\n",
    "\n",
    "2. Default arguments\n",
    "\n",
    "3. Variadic arguments\n",
    "\n",
    "4. Keyword arguments\n",
    "\n",
    "5. Variadic Keyword Arguments\n",
    "\n",
    "6. Functions Accepting All Inputs\n",
    "\n",
    "7. Positional-Only Arguments\n",
    "\n",
    "8. Names, Documentation Strings, and Type Hints\n",
    "\n",
    "9. Function Application and Parameter Passing\n",
    "\n",
    "10. Return Values"
   ]
  },
  {
   "cell_type": "markdown",
   "metadata": {},
   "source": [
    "**1.Arguments are fully evaluated left-to-right before executing the function body**\n",
    "\n",
    "For example, add(1+1, 2+2) is first reduced to add(2, 4) before calling the function. This is known as\n",
    "applicative evaluation order. The order and number of arguments must match the parameters given in the\n",
    "function definition. If a mismatch exists, a TypeError exception is raised. The structure of calling a\n",
    "function (such as the number of required arguments) is known as the function’s call signature"
   ]
  },
  {
   "cell_type": "code",
   "execution_count": 74,
   "metadata": {},
   "outputs": [
    {
     "name": "stdout",
     "output_type": "stream",
     "text": [
      "3\n"
     ]
    }
   ],
   "source": [
    "def add(x, y):\n",
    " return x + y\n",
    "a=1\n",
    "print(add(a,a+1))"
   ]
  },
  {
   "cell_type": "markdown",
   "metadata": {},
   "source": [
    "**2.Python allows for default arguments**\n",
    "\n",
    "You can attach default values to function parameters by assigning values in the function definition. For\n",
    "example:"
   ]
  },
  {
   "cell_type": "code",
   "execution_count": 75,
   "metadata": {},
   "outputs": [],
   "source": [
    "def split(line, delimiter=','):\n",
    " pass\n"
   ]
  },
  {
   "cell_type": "markdown",
   "metadata": {},
   "source": [
    "Important rules\n",
    "\n",
    "1. When a function defines a parameter with a default value, that parameter and all the parameters\n",
    "that follow it are optional.\n",
    "\n",
    "2. It is not possible to specify a parameter with no default value after any parameter with a default\n",
    "value.\n",
    "\n",
    "3. Default parameter values are evaluated once when the function is first defined, not each time the\n",
    "function is called. This often leads to surprising behavior if mutable objects are used as a default since\n",
    "they will retain the change and the original default won’t be the “default” anymore:\n"
   ]
  },
  {
   "cell_type": "code",
   "execution_count": 81,
   "metadata": {},
   "outputs": [
    {
     "name": "stdout",
     "output_type": "stream",
     "text": [
      "[1]\n",
      "[1, 2]\n",
      "[1, 2, 3]\n",
      "[1, 4]\n",
      "[1, 3]\n"
     ]
    }
   ],
   "source": [
    "def f(x, items=[]):\n",
    " items.append(x)\n",
    " return items\n",
    "print(f(1))\n",
    "print(f(2))\n",
    "print(f(3))\n",
    "print(f(4, [1]))\n",
    "print(f(3, [1]))\n",
    "\n",
    "# Notice how the default argument retains the modifications made from previous invocations and doesn’t\n",
    "# reinitialize to the empty list. To prevent this, it is better to use None and add a check as follows:\n",
    "def func(x, items=None):\n",
    " if items is None:\n",
    "  items = []\n",
    " items.append(x)\n",
    " return items\n"
   ]
  },
  {
   "cell_type": "markdown",
   "metadata": {},
   "source": [
    "**3.Variadic Arguments**\n",
    "\n",
    "A function can accept a variable number of arguments if an asterisk (*) is used as a prefix on the last\n",
    "parameter name. For example:\n"
   ]
  },
  {
   "cell_type": "code",
   "execution_count": 83,
   "metadata": {},
   "outputs": [
    {
     "name": "stdout",
     "output_type": "stream",
     "text": [
      "200\n",
      "120\n",
      "720\n"
     ]
    }
   ],
   "source": [
    "def product(first, *args):\n",
    " result = first\n",
    " for x in args: # note args is an iterable. Its type is <class 'tuple'>.\n",
    "  result = result * x\n",
    " return result\n",
    "print(product(10, 20)) # -> 200\n",
    "print(product(2, 3, 4, 5)) # -> 120\n",
    "print(product(1, 2, 3, 4, 5, 6)) # -> 720"
   ]
  },
  {
   "cell_type": "markdown",
   "metadata": {},
   "source": [
    "**4. Keyword Arguments vs Positional Arguments**\n",
    "\n",
    "When calling a function, arguments can be supplied by explicitly naming each parameter and specifying a\n",
    "value. These are known as keyword arguments. Here is an example:\n"
   ]
  },
  {
   "cell_type": "code",
   "execution_count": 88,
   "metadata": {},
   "outputs": [],
   "source": [
    "def f(w, x, y, z):\n",
    "    pass\n",
    "f(x=10, z=3, w=2, y=20) # can be written in any order!\n",
    "f(10, 12, z=10, y=3)\n",
    "f('hello', 3, z=[1, 2], y=22) # note z before y, but that’s OK\n",
    "f(3, 22, w='hello', z=[1, 2]) # TypeError. Multiple values for w"
   ]
  },
  {
   "cell_type": "markdown",
   "metadata": {},
   "source": [
    "Keyword arguments are evaluated in the same order as they are specified in the function call.\n"
   ]
  },
  {
   "cell_type": "markdown",
   "metadata": {},
   "source": [
    "**Important**\n",
    "\n",
    "Positional arguments and keyword arguments can appear in the same function call, provided that\n",
    "\n",
    "• all the positional arguments appear first,\n",
    "\n",
    "• values are provided for all nonoptional arguments, and\n",
    "\n",
    "• no argument receives more than one value. "
   ]
  },
  {
   "cell_type": "markdown",
   "metadata": {},
   "source": [
    "**We can force the use of keyword arguments**\n",
    "\n",
    "It is possible to force the use of keyword arguments. This is done by listing parameters after a *\n",
    "argument or just by including a single * in the definition.\n",
    "Consider the following examples:"
   ]
  },
  {
   "cell_type": "code",
   "execution_count": 91,
   "metadata": {},
   "outputs": [],
   "source": [
    "def read_data(filename, *, debug=False):\n",
    " pass\n",
    "def product(first, *values, scale=1):\n",
    " result = first * scale\n",
    " for val in values:\n",
    "  result = result * val\n",
    " return result\n",
    "\n",
    "# In this example, the debug argument to read_data() can only be specified by keyword. This restriction\n",
    "# often improves code readability:\n",
    "data = read_data('Data.csv', True) # NO. TypeError\n",
    "data = read_data('Data.csv', debug=True) # Yes.\n",
    "\n",
    "# The product() function takes any number of positional arguments and an optional keyword-only argument.\n",
    "# For example:\n",
    "result = product(2,3,4) # Result = 24\n",
    "result = product(2,3,4, scale=10) # Result = 240"
   ]
  },
  {
   "cell_type": "markdown",
   "metadata": {},
   "source": [
    "**5. Variadic Keyword Arguments**\n",
    "\n",
    "If the last argument of a function definition is prefixed with **, all the additional keyword arguments\n",
    "(those that don’t match any of the other parameter names) are placed in a dictionary and passed to the\n",
    "function. The order of items in this dictionary is guaranteed to match the order in which keyword\n",
    "arguments were provided.\n"
   ]
  },
  {
   "cell_type": "code",
   "execution_count": 99,
   "metadata": {},
   "outputs": [
    {
     "name": "stdout",
     "output_type": "stream",
     "text": [
      "white\n"
     ]
    }
   ],
   "source": [
    "def make_table(data, **parms):\n",
    " # Get configuration parameters from parms (a dict)\n",
    " fgcolor = parms.pop('fgcolor', 'black')\n",
    " bgcolor = parms.pop('bgcolor', 'white') # if bgcolor is not found, which its not, returns 'white'\n",
    " print(bgcolor)\n",
    " border = parms.pop(\"border\", 1)\n",
    " borderstyle = parms.pop(\"borderstyle\", \"grooved\")\n",
    " cellpadding = parms.pop(\"cellpadding\", 10)\n",
    " width = parms.pop('width', None)\n",
    " # No more options\n",
    " if parms:\n",
    "  raise TypeError(f'Unsupported configuration options {list(parms)}')\n",
    "make_table(\"my data\", fgcolor='black', border=1,\n",
    " borderstyle='grooved', cellpadding=10,\n",
    " width=400)"
   ]
  },
  {
   "cell_type": "markdown",
   "metadata": {},
   "source": [
    "The pop() method of a dictionary removes an item from a dictionary, returning a possible default value if\n",
    "it’s not defined. The parms.pop('fgcolor', 'black') expression used in this code mimics the behavior of a\n",
    "keyword argument specified with a default value."
   ]
  },
  {
   "cell_type": "markdown",
   "metadata": {},
   "source": [
    "**6. Functions Accepting All Inputs**\n",
    "\n",
    "By using both * and **, you can write a function that accepts any combination of\n",
    "arguments. The positional arguments are passed as a tuple and the keyword arguments are\n",
    "passed as a dictionary. For example:"
   ]
  },
  {
   "cell_type": "code",
   "execution_count": null,
   "metadata": {},
   "outputs": [],
   "source": [
    "def func(*args, **kwargs):\n",
    " # args is a tuple of positional args\n",
    " # kwargs is dictionary of keyword args\n",
    " pass"
   ]
  },
  {
   "cell_type": "code",
   "execution_count": null,
   "metadata": {},
   "outputs": [],
   "source": [
    "# For example, suppose you have a function to parse lines of text taken from an\n",
    "# iterable:\n",
    "def parse_lines(lines, separator=',', types=(), debug=False):\n",
    " for line in lines:\n",
    "  pass\n",
    "# Now, suppose you want to make a special-case function that parses data from a file\n",
    "# specified by filename instead. To do that, you could write:\n",
    "def parse_file(filename, *args, **kwargs):\n",
    " with open(filename, 'rt') as file:\n",
    "  return parse_lines(file, *args, **kwargs)"
   ]
  },
  {
   "cell_type": "markdown",
   "metadata": {},
   "source": [
    "**7. Positional-Only Arguments**\n",
    "\n",
    "Many of Python’s built-in functions only accept arguments by position. You’ll see this\n",
    "indicated by the presence of a slash (/) in the calling signature of a function shown by\n",
    "various help utilities and IDEs. For example, you might see something like func(x, y, /).\n",
    "This means that all arguments appearing before the slash can only be specified by position.\n",
    "Thus, you could call the function as func(2, 3) but not as func(x=2, y=3). For\n",
    "completeness, this syntax may also be used when defining functions. For example, you can\n",
    "write the following:"
   ]
  },
  {
   "cell_type": "code",
   "execution_count": 103,
   "metadata": {},
   "outputs": [
    {
     "ename": "TypeError",
     "evalue": "func() got some positional-only arguments passed as keyword arguments: 'y'",
     "output_type": "error",
     "traceback": [
      "\u001b[1;31m---------------------------------------------------------------------------\u001b[0m",
      "\u001b[1;31mTypeError\u001b[0m                                 Traceback (most recent call last)",
      "Cell \u001b[1;32mIn[103], line 4\u001b[0m\n\u001b[0;32m      2\u001b[0m  \u001b[38;5;28;01mpass\u001b[39;00m\n\u001b[0;32m      3\u001b[0m func(\u001b[38;5;241m1\u001b[39m, \u001b[38;5;241m2\u001b[39m) \u001b[38;5;66;03m# Ok\u001b[39;00m\n\u001b[1;32m----> 4\u001b[0m \u001b[43mfunc\u001b[49m\u001b[43m(\u001b[49m\u001b[38;5;241;43m1\u001b[39;49m\u001b[43m,\u001b[49m\u001b[43m \u001b[49m\u001b[43my\u001b[49m\u001b[38;5;241;43m=\u001b[39;49m\u001b[38;5;241;43m2\u001b[39;49m\u001b[43m)\u001b[49m \u001b[38;5;66;03m# Error\u001b[39;00m\n\u001b[0;32m      5\u001b[0m func(x\u001b[38;5;241m=\u001b[39m\u001b[38;5;241m2\u001b[39m, y\u001b[38;5;241m=\u001b[39m\u001b[38;5;241m2\u001b[39m) \u001b[38;5;66;03m# Error\u001b[39;00m\n",
      "\u001b[1;31mTypeError\u001b[0m: func() got some positional-only arguments passed as keyword arguments: 'y'"
     ]
    }
   ],
   "source": [
    "def func(x, y, /):\n",
    " pass\n",
    "func(1, 2) # Ok\n",
    "func(1, y=2) # Error\n",
    "func(x=2, y=2) # Error"
   ]
  },
  {
   "cell_type": "markdown",
   "metadata": {},
   "source": [
    "it can be a useful way\n",
    "to avoid potential name clashes between argument names. For example, consider the\n",
    "following code:"
   ]
  },
  {
   "cell_type": "code",
   "execution_count": 104,
   "metadata": {},
   "outputs": [
    {
     "data": {
      "text/plain": [
       "7400"
      ]
     },
     "execution_count": 104,
     "metadata": {},
     "output_type": "execute_result"
    }
   ],
   "source": [
    "import time\n",
    "\n",
    "def after(seconds, func, /, *args, **kwargs):\n",
    " time.sleep(seconds)\n",
    " return func(*args, **kwargs)\n",
    "\n",
    "def duration(*, seconds, minutes, hours):\n",
    " return seconds + 60 * minutes + 3600 * hours\n",
    "\n",
    "after(5, duration, seconds=20, minutes=3, hours=2)"
   ]
  },
  {
   "cell_type": "markdown",
   "metadata": {},
   "source": [
    "In this code, seconds is being passed as a keyword argument, but it’s intended to be used\n",
    "with the duration function that’s passed to after(). The use of positional-only arguments in\n",
    "after() prevents a name clash with the seconds argument that appears first."
   ]
  },
  {
   "cell_type": "markdown",
   "metadata": {},
   "source": [
    "**8. Names, Documentation Strings, and Type Hints**\n",
    "\n",
    "The name of a function can be obtained via the __name__ attribute. This is sometimes useful for\n",
    "debugging."
   ]
  },
  {
   "cell_type": "code",
   "execution_count": 105,
   "metadata": {},
   "outputs": [
    {
     "name": "stdout",
     "output_type": "stream",
     "text": [
      "square\n"
     ]
    }
   ],
   "source": [
    "def square(x):\n",
    "    pass\n",
    "print(square.__name__)"
   ]
  },
  {
   "cell_type": "markdown",
   "metadata": {},
   "source": [
    "It is common for the first statement of a function to be a documentation string describing its usage. The documentation string is stored in the __doc__ attribute of the function. It’s often accessed by IDEs to\n",
    "provide interactive help.\n",
    "For example:"
   ]
  },
  {
   "cell_type": "code",
   "execution_count": 109,
   "metadata": {},
   "outputs": [
    {
     "name": "stdout",
     "output_type": "stream",
     "text": [
      "\n",
      " Computes n factorial. For example:\n",
      " >>> factorial(6)\n",
      " 120\n",
      " >>>\n",
      " \n",
      "Help on function factorial in module __main__:\n",
      "\n",
      "factorial(n)\n",
      "    Computes n factorial. For example:\n",
      "    >>> factorial(6)\n",
      "    120\n",
      "    >>>\n",
      "\n"
     ]
    }
   ],
   "source": [
    "def factorial(n):\n",
    " '''\n",
    " Computes n factorial. For example:\n",
    " >>> factorial(6)\n",
    " 120\n",
    " >>>\n",
    " '''\n",
    " if n <= 1:\n",
    "  return 1\n",
    " else:\n",
    "  return n*factorial(n-1)\n",
    "print(factorial.__doc__)\n",
    "help(factorial)"
   ]
  },
  {
   "cell_type": "markdown",
   "metadata": {},
   "source": [
    "Functions can also be annotated with type hints. For example:"
   ]
  },
  {
   "cell_type": "code",
   "execution_count": 110,
   "metadata": {},
   "outputs": [],
   "source": [
    "def factorial(n: int) -> int:\n",
    " if n <= 1:\n",
    "  return 1\n",
    " else:\n",
    "  return n * factorial(n - 1)"
   ]
  },
  {
   "cell_type": "markdown",
   "metadata": {},
   "source": [
    "The type hints don’t change anything about how the function evaluates. That is, the presence of hints\n",
    "provides no performance benefits or extra runtime error checking. The hints are merely stored in the\n",
    "__annotations__ attribute of the function which is a dictionary mapping argument names to the supplied\n",
    "hints. Third-party tools such as IDEs and code checkers might use the hints for various purposes."
   ]
  },
  {
   "cell_type": "markdown",
   "metadata": {},
   "source": [
    "Sometimes you will see type hints attached to local variables within a function. For example:"
   ]
  },
  {
   "cell_type": "code",
   "execution_count": 111,
   "metadata": {},
   "outputs": [],
   "source": [
    "def factorial(n:int) -> int:\n",
    " result: int = 1 # Type hinted local variable\n",
    " while n > 1:\n",
    "  result *= n\n",
    " n -= 1\n",
    " return result"
   ]
  },
  {
   "cell_type": "markdown",
   "metadata": {},
   "source": [
    "Such hints are completely ignored by the interpreter. They’re not checked, stored, or even evaluated.\n",
    "Again, the purpose of the hints is to help third-party code-checking tools.\n",
    "\n",
    "\n",
    "Adding type hints to functions is not advised unless you are actively using code-checking tools that make\n",
    "use of them. It is easy to specify type hints incorrectly—and, unless you’re using a tool that checks them,\n",
    "errors will go undiscovered until someone else decides to run a type-checking tool on your code."
   ]
  },
  {
   "cell_type": "markdown",
   "metadata": {},
   "source": [
    "**9. Function Application and Parameter Passing**\n",
    "\n"
   ]
  },
  {
   "cell_type": "markdown",
   "metadata": {},
   "source": [
    "Argument unpacking when passing arguments. \n",
    "\n",
    "Sometimes you already have data in a sequence or a mapping that you’d like to pass to a\n",
    "function. To do this, you can use * and ** in function invocations. "
   ]
  },
  {
   "cell_type": "code",
   "execution_count": 116,
   "metadata": {},
   "outputs": [
    {
     "name": "stdout",
     "output_type": "stream",
     "text": [
      "1 2 3\n",
      "x y z\n",
      "1 2 3\n"
     ]
    }
   ],
   "source": [
    "# For example:\n",
    "def func(x, y, z):\n",
    " print(x, y, z)\n",
    "s = (1, 2, 3)\n",
    "# Pass a sequence as arguments\n",
    "result = func(*s)\n",
    "# Pass a mapping as keyword arguments\n",
    "d = { 'x':1, 'y':2, 'z':3 }\n",
    "result = func(*d) # returns key\n",
    "result = func(**d) #returns values"
   ]
  },
  {
   "cell_type": "markdown",
   "metadata": {},
   "source": [
    "**10. Return Values**"
   ]
  },
  {
   "cell_type": "markdown",
   "metadata": {},
   "source": [
    "The return statement returns a value from a function. If no value is specified or you omit\n",
    "the return statement, **None** is returned. "
   ]
  },
  {
   "cell_type": "markdown",
   "metadata": {},
   "source": [
    "**Argument unpacking when returning values.**\n",
    "\n",
    "To return multiple values, place them in a tuple:"
   ]
  },
  {
   "cell_type": "code",
   "execution_count": 125,
   "metadata": {},
   "outputs": [
    {
     "name": "stdout",
     "output_type": "stream",
     "text": [
      "url\n",
      "http://www.python.org\n"
     ]
    }
   ],
   "source": [
    "def parse_value(text):\n",
    " '''\n",
    " Split text of the form name=val into (name, val)\n",
    " '''\n",
    " parts = text.split('=', 1)\n",
    " return (parts[0].strip(), parts[1].strip())\n",
    "\n",
    "name, value = parse_value('url=http://www.python.org')\n",
    "print(name)\n",
    "print(value)"
   ]
  },
  {
   "cell_type": "markdown",
   "metadata": {},
   "source": [
    "**Enter Named Tuples**\n",
    "\n",
    "Named tuples give us the clarity of assigning names to the values we're returning, while\n",
    "maintaining the tuple-like behavior. Here’s how you can define a named tuple:"
   ]
  },
  {
   "cell_type": "code",
   "execution_count": 129,
   "metadata": {},
   "outputs": [
    {
     "name": "stdout",
     "output_type": "stream",
     "text": [
      "url\n",
      "http://www.python.org\n",
      "ParseResult(name='url', value='http://www.python.org')\n"
     ]
    }
   ],
   "source": [
    "from typing import NamedTuple\n",
    "# Define a named tuple to hold the parsed result\n",
    "class ParseResult(NamedTuple): # inherit from NamedTuple\n",
    " name: str # notice the optional type hint\n",
    " value: str\n",
    "\n",
    "# Now, instead of returning a regular tuple, we can return an instance of `ParseResult`:\n",
    "def parse_value(text):\n",
    " '''\n",
    " Split text of the form name=val into a named tuple\n",
    " '''\n",
    " parts = text.split('=', 1)\n",
    " return ParseResult(parts[0].strip(), parts[1].strip())\n",
    "\n",
    "r = parse_value('url=http://www.python.org')\n",
    "print(r.name)\n",
    "print(r.value)\n",
    "print(r)"
   ]
  },
  {
   "cell_type": "markdown",
   "metadata": {},
   "source": [
    "Here, `ParseResult(parts[0].strip(), parts[1].strip())` creates a `ParseResult` object with two\n",
    "fields: `name` and `value`. This makes the return value much clearer and more structured\n",
    "than using a basic tuple."
   ]
  },
  {
   "cell_type": "markdown",
   "metadata": {},
   "source": [
    "By using `r.name` and `r.value`, it's immediately clear what each value represents. This\n",
    "eliminates any confusion that might arise from using index-based access like `r[0]` or\n",
    "`r[1]`.\n"
   ]
  },
  {
   "cell_type": "markdown",
   "metadata": {},
   "source": [
    "**Function definitions**\n",
    "\n",
    "What does Python do when it encounters a function definition?\n",
    "\n",
    "When the Python interpreter encounters a function definition in a program for the first time, a series of steps are\n",
    "followed to interpret and store the function for later use. Here's a detailed breakdown of what happens:\n",
    "\n",
    "1. Parsing the Function Definition\n",
    "The interpreter first parses the function definition. This involves analyzing the syntax of the `def` statement,\n",
    "including the function name, parameters, and the body of the function. Python's parser converts this source code\n",
    "into an abstract syntax tree (AST), which represents the structure of the code in a tree-like form.\n",
    "\n",
    "2. Compilation to Bytecode\n",
    "After parsing, the function's code block (its body) is compiled into bytecode. Bytecode is a low-level, platformindependent representation of the source code, which is designed to be executed by the Python Virtual Machine\n",
    "(PVM). Each operation in the function body, such as variable assignment, operation on variables, and function calls,\n",
    "is translated into a series of bytecode instructions.\n",
    "\n",
    "3. Creation of a Function Object\n",
    "Once the bytecode is ready, Python creates a function object. This function object is a first-class object, meaning it\n",
    "can be passed around and manipulated like any other object in Python. The function object contains several pieces\n",
    "of information:\n",
    "\n",
    "What’s in the function object?\n",
    "\n",
    "Code object: This contains the compiled bytecode of the function, as well as other metadata such as the function's\n",
    "name, its argument names, and its defaults.\n",
    "Global references: The function object also keeps a reference to the globals of the module in which it is defined.\n",
    "This is important because the function will need access to global variables and other functions defined at the module\n",
    "level when it is called.\n",
    "Closure: If the function is a closure, the function object will also contain a reference to any variables captured from\n",
    "an enclosing scope.\n",
    "\n",
    "4. Function Object Assignment\n",
    "The function object is then bound to the function's name in the current namespace. This means that after the\n",
    "definition is interpreted, you can call the function by using its name. In Python, namespaces are implemented as\n",
    "dictionaries, so the function name is a key in this dictionary, and the function object is the value.\n",
    "\n",
    "5. Ready for Execution\n",
    "At this point, the function is fully defined and ready to be executed. However, it's important to note that the\n",
    "function's code has not been executed yet; the function will only be executed when it is called.\n",
    "\n",
    "When you call the function, the interpreter creates a new execution frame for that function call, pushing it onto the\n",
    "call stack. This frame contains its own namespace for local variables, references to any global or nonlocal variables\n",
    "it needs, and a pointer back to the function object's code so that the interpreter knows what bytecode to execute.\n",
    "\n",
    "In summary, when the Python interpreter encounters a function definition for the first time, it parses the\n",
    "definition, compiles the body of the function into bytecode, creates a function object containing this bytecode and\n",
    "other relevant information, and then binds this object to the function's name in the current namespace. This process\n",
    "makes the function ready for execution whenever it is called later in the program."
   ]
  },
  {
   "cell_type": "markdown",
   "metadata": {},
   "source": [
    "Now … above we have 1. Parsing the Function Definition. What does that look like?\n",
    "\n",
    "First, Python creates an Abstract Syntax Tree (AST) representation of the abstract syntactic structure of\n",
    "the source code Each node in the tree denotes a construct occurring in the source code.\n",
    "\n",
    "For example, consider:"
   ]
  },
  {
   "cell_type": "code",
   "execution_count": 130,
   "metadata": {},
   "outputs": [],
   "source": [
    "def add(a, b):\n",
    " return a + b"
   ]
  },
  {
   "attachments": {
    "image.png": {
     "image/png": "[encoded data removed]"
    }
   },
   "cell_type": "markdown",
   "metadata": {},
   "source": [
    "The AST for this function would represent the structure of the function in a hierarchical manner, breaking\n",
    "down the function definition, parameters, body, and return statement. A simplified version might look\n",
    "something like this:\n",
    "\n",
    "![image.png](attachment:image.png)"
   ]
  },
  {
   "cell_type": "markdown",
   "metadata": {},
   "source": [
    "In this tree:\n",
    "\n",
    ". The root is a `FunctionDef` node, representing the function definition.\n",
    "\n",
    ". The `FunctionDef` node has children representing the function's name (`add`), its arguments (`a` and\n",
    "`b`), and its body.\n",
    "\n",
    ". The `arguments` node lists all parameters the function accepts. In this case, there are two arguments, `a`\n",
    "and `b`.\n",
    "\n",
    ". The `body` node contains a `Return` node, indicating that the function will return a value.\n",
    "\n",
    ". The `Return` node has a child `BinOp` (binary operation) node, representing the addition operation.\n",
    "\n",
    ". The `BinOp` node has three children: `Left`, `Op`, and `Right`. `Left` and `Right` are `Name` nodes\n",
    "representing the operands (the parameters `a` and `b`), and `Op` is an `Add` node representing the addition\n",
    "operator."
   ]
  },
  {
   "cell_type": "code",
   "execution_count": 136,
   "metadata": {},
   "outputs": [
    {
     "name": "stdout",
     "output_type": "stream",
     "text": [
      "<ast.Module object at 0x000002AF54C092D0>\n"
     ]
    }
   ],
   "source": [
    "import ast\n",
    "source_code = '''\n",
    "def add(a,b):\n",
    " return a+b\n",
    "'''\n",
    "tree = ast.parse(source_code)\n",
    "print(tree)"
   ]
  },
  {
   "cell_type": "markdown",
   "metadata": {},
   "source": [
    "Then we have 2. Compilation to Bytecode. What does that look like?\n",
    "\n",
    "The bytecode generated for the `add` function is as follows:\n",
    "\n",
    "1. `LOAD_FAST` (a): This instruction loads the local variable `a` onto the stack. It's the first argument of\n",
    "the function `add`.\n",
    "\n",
    "2. `LOAD_FAST` (b): This instruction loads the next local variable `b` onto the stack. It's the second\n",
    "argument of the function `add`.\n",
    "\n",
    "3. `BINARY_ADD`: This instruction pops the top two values from the stack (which are `a` and `b`), adds\n",
    "them, and then pushes the result back onto the stack.\n",
    "\n",
    "4. `RETURN_VALUE`: This instruction returns the value on top of the stack to the caller of the function.\n",
    "\n",
    "Each `Instruction` in the bytecode includes the operation name (`opname`), the operation code (`opcode`),\n",
    "the argument to the operation if any (`arg` and `argval`), a representation of the argument (`argrepr`), the\n",
    "offset in the bytecode, and whether the line starts a new line of Python code or is a jump target.\n",
    "\n",
    "This sequence of instructions is what the Python interpreter executes when the `add` function is called,\n",
    "performing the addition operation and returning the result."
   ]
  }
 ],
 "metadata": {
  "kernelspec": {
   "display_name": "Python 3",
   "language": "python",
   "name": "python3"
  },
  "language_info": {
   "codemirror_mode": {
    "name": "ipython",
    "version": 3
   },
   "file_extension": ".py",
   "mimetype": "text/x-python",
   "name": "python",
   "nbconvert_exporter": "python",
   "pygments_lexer": "ipython3",
   "version": "3.12.6"
  }
 },
 "nbformat": 4,
 "nbformat_minor": 2
}
